{
 "cells": [
  {
   "cell_type": "markdown",
   "id": "44ddb7c9",
   "metadata": {},
   "source": [
    "# Quantum Teleportation\n",
    "Quantum teleportation is a phenomenon in quantum physics that allows the transfer of quantum information from one location to another, without the physical transfer of matter or energy. Note that this does not break any laws of physics and can be only used to teleport a quantum state, not a quantum particle. The algorithm uses entanglement to teleport an unknown quantum state.\n",
    "    \n",
    "We already saw that as a consequence of No Cloning theorem, which states that we can not clone any arbitrary state. We also understood that this is due to the fact that the act of measurement alters the quantum state being measured, and we will be only able to clone the states that are basis states of our system. Since we can not clone a quantum state, by extension, we can not clone quantum information."
   ]
  },
  {
   "cell_type": "markdown",
   "id": "32938dad",
   "metadata": {},
   "source": [
    "### Making a 'Quantum Circuit'\n",
    "First, we import the qiskit library. 'from qiskit import \\*' imports all the components from the qiskit library. Alternatively you can also import only the components that you will be using to save resources, but this method is more reliable for beginners.<br>\n",
    "Next we use 'QuantumCircuit(m, n)' to make ourselves a quantum circuit. m is the number of qubits and n is the number of classical bits. This initialises a quantum circuit with given number of classical bits and qubits. All the qubits are in state |0><br>\n",
    "next we print the circuit to see our quantum circuit of 3 qubits. Notice the order of qubits, the least significant bit is at top and the most significant bit is at bottom. "
   ]
  },
  {
   "cell_type": "code",
   "execution_count": 1,
   "id": "9b809a0b",
   "metadata": {},
   "outputs": [
    {
     "data": {
      "text/html": [
       "<pre style=\"word-wrap: normal;white-space: pre;background: #fff0;line-height: 1.1;font-family: &quot;Courier New&quot;,Courier,monospace\">     \n",
       "q_0: \n",
       "     \n",
       "q_1: \n",
       "     \n",
       "q_2: \n",
       "     \n",
       "c: 3/\n",
       "     </pre>"
      ],
      "text/plain": [
       "     \n",
       "q_0: \n",
       "     \n",
       "q_1: \n",
       "     \n",
       "q_2: \n",
       "     \n",
       "c: 3/\n",
       "     "
      ]
     },
     "execution_count": 1,
     "metadata": {},
     "output_type": "execute_result"
    }
   ],
   "source": [
    "from qiskit import *\n",
    "import numpy as np\n",
    "%matplotlib inline\n",
    "from qiskit.tools.visualization import plot_histogram\n",
    "qc_teleportation = QuantumCircuit(3,3)\n",
    "\n",
    "qc_teleportation.draw()\n"
   ]
  },
  {
   "cell_type": "markdown",
   "id": "7d0fa6f5",
   "metadata": {},
   "source": [
    "### Adding gates and performing operations\n",
    "Next, let us add some gates to the circuit. we will apply a X gate on q_0, a H gate (Hadamard gate) on q_1."
   ]
  },
  {
   "cell_type": "code",
   "execution_count": 2,
   "id": "4d92b683",
   "metadata": {},
   "outputs": [
    {
     "data": {
      "text/html": [
       "<pre style=\"word-wrap: normal;white-space: pre;background: #fff0;line-height: 1.1;font-family: &quot;Courier New&quot;,Courier,monospace\">     ┌───┐\n",
       "q_0: ┤ X ├\n",
       "     ├───┤\n",
       "q_1: ┤ H ├\n",
       "     └───┘\n",
       "q_2: ─────\n",
       "          \n",
       "c: 3/═════\n",
       "          </pre>"
      ],
      "text/plain": [
       "     ┌───┐\n",
       "q_0: ┤ X ├\n",
       "     ├───┤\n",
       "q_1: ┤ H ├\n",
       "     └───┘\n",
       "q_2: ─────\n",
       "          \n",
       "c: 3/═════\n",
       "          "
      ]
     },
     "execution_count": 2,
     "metadata": {},
     "output_type": "execute_result"
    }
   ],
   "source": [
    "qc_teleportation.x(0)\n",
    "qc_teleportation.h(1)\n",
    "qc_teleportation.draw()"
   ]
  },
  {
   "cell_type": "markdown",
   "id": "b1b0bbea",
   "metadata": {},
   "source": [
    "Now let us add a CNOT gate where q_1 is the control qubit and not gate acts on q_2"
   ]
  },
  {
   "cell_type": "code",
   "execution_count": 3,
   "id": "672c594e",
   "metadata": {},
   "outputs": [
    {
     "data": {
      "text/html": [
       "<pre style=\"word-wrap: normal;white-space: pre;background: #fff0;line-height: 1.1;font-family: &quot;Courier New&quot;,Courier,monospace\">     ┌───┐     \n",
       "q_0: ┤ X ├─────\n",
       "     ├───┤     \n",
       "q_1: ┤ H ├──■──\n",
       "     └───┘┌─┴─┐\n",
       "q_2: ─────┤ X ├\n",
       "          └───┘\n",
       "c: 3/══════════\n",
       "               </pre>"
      ],
      "text/plain": [
       "     ┌───┐     \n",
       "q_0: ┤ X ├─────\n",
       "     ├───┤     \n",
       "q_1: ┤ H ├──■──\n",
       "     └───┘┌─┴─┐\n",
       "q_2: ─────┤ X ├\n",
       "          └───┘\n",
       "c: 3/══════════\n",
       "               "
      ]
     },
     "execution_count": 3,
     "metadata": {},
     "output_type": "execute_result"
    }
   ],
   "source": [
    "qc_teleportation.cx(1,2)\n",
    "qc_teleportation.draw()"
   ]
  },
  {
   "cell_type": "markdown",
   "id": "0d2a0acc",
   "metadata": {},
   "source": [
    "Now that you have learnt how to add gates to the circuit, let us see how to measure the qubits and write their data onto classical bits on the circuit.<br>\n",
    "We measure q_0 to c_0, q_1 to c_1 and q_3 to c_3."
   ]
  },
  {
   "cell_type": "code",
   "execution_count": 4,
   "id": "6fbf005e",
   "metadata": {},
   "outputs": [
    {
     "data": {
      "text/html": [
       "<pre style=\"word-wrap: normal;white-space: pre;background: #fff0;line-height: 1.1;font-family: &quot;Courier New&quot;,Courier,monospace\">     ┌───┐     ┌─┐\n",
       "q_0: ┤ X ├─────┤M├\n",
       "     ├───┤     └╥┘\n",
       "q_1: ┤ H ├──■───╫─\n",
       "     └───┘┌─┴─┐ ║ \n",
       "q_2: ─────┤ X ├─╫─\n",
       "          └───┘ ║ \n",
       "c: 3/═══════════╩═\n",
       "                0 </pre>"
      ],
      "text/plain": [
       "     ┌───┐     ┌─┐\n",
       "q_0: ┤ X ├─────┤M├\n",
       "     ├───┤     └╥┘\n",
       "q_1: ┤ H ├──■───╫─\n",
       "     └───┘┌─┴─┐ ║ \n",
       "q_2: ─────┤ X ├─╫─\n",
       "          └───┘ ║ \n",
       "c: 3/═══════════╩═\n",
       "                0 "
      ]
     },
     "execution_count": 4,
     "metadata": {},
     "output_type": "execute_result"
    }
   ],
   "source": [
    "qc_teleportation.measure(0,0)\n",
    "qc_teleportation.draw()"
   ]
  },
  {
   "cell_type": "code",
   "execution_count": 5,
   "id": "db639a1a",
   "metadata": {},
   "outputs": [
    {
     "data": {
      "text/html": [
       "<pre style=\"word-wrap: normal;white-space: pre;background: #fff0;line-height: 1.1;font-family: &quot;Courier New&quot;,Courier,monospace\">     ┌───┐     ┌─┐   \n",
       "q_0: ┤ X ├─────┤M├───\n",
       "     ├───┤     └╥┘┌─┐\n",
       "q_1: ┤ H ├──■───╫─┤M├\n",
       "     └───┘┌─┴─┐ ║ └╥┘\n",
       "q_2: ─────┤ X ├─╫──╫─\n",
       "          └───┘ ║  ║ \n",
       "c: 3/═══════════╩══╩═\n",
       "                0  1 </pre>"
      ],
      "text/plain": [
       "     ┌───┐     ┌─┐   \n",
       "q_0: ┤ X ├─────┤M├───\n",
       "     ├───┤     └╥┘┌─┐\n",
       "q_1: ┤ H ├──■───╫─┤M├\n",
       "     └───┘┌─┴─┐ ║ └╥┘\n",
       "q_2: ─────┤ X ├─╫──╫─\n",
       "          └───┘ ║  ║ \n",
       "c: 3/═══════════╩══╩═\n",
       "                0  1 "
      ]
     },
     "execution_count": 5,
     "metadata": {},
     "output_type": "execute_result"
    }
   ],
   "source": [
    "qc_teleportation.measure(1,1)\n",
    "qc_teleportation.draw()"
   ]
  },
  {
   "cell_type": "code",
   "execution_count": 6,
   "id": "4fa0328e",
   "metadata": {},
   "outputs": [
    {
     "data": {
      "text/html": [
       "<pre style=\"word-wrap: normal;white-space: pre;background: #fff0;line-height: 1.1;font-family: &quot;Courier New&quot;,Courier,monospace\">     ┌───┐     ┌─┐      \n",
       "q_0: ┤ X ├─────┤M├──────\n",
       "     ├───┤     └╥┘┌─┐   \n",
       "q_1: ┤ H ├──■───╫─┤M├───\n",
       "     └───┘┌─┴─┐ ║ └╥┘┌─┐\n",
       "q_2: ─────┤ X ├─╫──╫─┤M├\n",
       "          └───┘ ║  ║ └╥┘\n",
       "c: 3/═══════════╩══╩══╩═\n",
       "                0  1  2 </pre>"
      ],
      "text/plain": [
       "     ┌───┐     ┌─┐      \n",
       "q_0: ┤ X ├─────┤M├──────\n",
       "     ├───┤     └╥┘┌─┐   \n",
       "q_1: ┤ H ├──■───╫─┤M├───\n",
       "     └───┘┌─┴─┐ ║ └╥┘┌─┐\n",
       "q_2: ─────┤ X ├─╫──╫─┤M├\n",
       "          └───┘ ║  ║ └╥┘\n",
       "c: 3/═══════════╩══╩══╩═\n",
       "                0  1  2 "
      ]
     },
     "execution_count": 6,
     "metadata": {},
     "output_type": "execute_result"
    }
   ],
   "source": [
    "qc_teleportation.measure(2,2)\n",
    "qc_teleportation.draw()"
   ]
  },
  {
   "cell_type": "markdown",
   "id": "6037fe27",
   "metadata": {},
   "source": [
    "Now that we have added measurement gates, and each measured value is stored in a classical bit, let us try to predict the output of the circuit without running the circuit. To do that let us analyse the circuit by hand in the following way:\n",
    "<!---some latex to make things look pretty, you dont have to worry about this-->\n",
    "$$\\renewcommand{\\ket}[1]{\\left|{#1}\\right\\rangle}$$\n",
    "$$\\renewcommand{\\bra}[1]{\\left\\langle{#1}\\right|}$$\n",
    "$$\\renewcommand{\\braket}[2]{\\left\\langle{#1}\\middle|{#2}\\right\\rangle}$$\n",
    "$$X\\ket{0}  H\\ket{0}  \\ket{0}\n",
    "$$=\\ket{1} \\frac{1}{\\sqrt{2}}(\\ket{0}+\\ket{1})  \\ket{0}\n",
    "Now, applying cnot gate,\n",
    "$$\\ket{1} \\frac{1}{\\sqrt{2}}(\\ket{0}\\ket{0}+\\ket{1}\\ket{1})$$\n",
    "Combining this, we can write it as,\n",
    "$$\\ket{1} \\frac{1}{\\sqrt{2}}(\\ket{00}+\\ket{11})\n",
    "$$ =\\frac{1}{\\sqrt{2}}(\\ket{100}+\\ket{111})\n",
    "\n",
    "Now we have expected outputs to be states $\\ket{100}$ and $\\ket{111}$ here if we see the first state, it contains the bitstring $100$ where the value of q_0 written onto the least significant classical bit c_0 is written on the leftmost position. This is a standard practice where the least significant qubit is written from left and significance increases from left to right. But, qiskit writes it in reverse, the least significant bit is written in the rightmost position, so because of this, the bitstring obtained by qiskit will be reverse of what we have obtained. That is, the results obtained by Qiskit will be, $001$ and $111$."
   ]
  },
  {
   "cell_type": "markdown",
   "id": "1d80bf75",
   "metadata": {},
   "source": [
    "## Simulating the Quantum Circuit\n",
    "Now that we know what result to expect, let us see if we get the same result. To do this we have to run the quantum circuit large number of times and see the if we get the results as predicted, that is to get both the results, roughly the same number of times.<br><br>\n",
    "To do this, we will use Qiskit's Aer Simulators. We will be using qasm_simulator from the Aer module as our backend, and that is shown in the first line of the code below.<br><br>\n",
    "Now that we have selected our simulator, let us tell it to execute the circuit using execute() the arguments that this function takes are (name_of_circuit,backend,no_of_shots) where number of shots is the number of times you want to run this circuit. Then the result of this execution job is stored in a variable named result. This is done in the second line of the code.<br><br>\n",
    "then we plot the results in a histogram to visualise the result. This is done in the third line of the code below."
   ]
  },
  {
   "cell_type": "code",
   "execution_count": 7,
   "id": "54c8bf45",
   "metadata": {},
   "outputs": [
    {
     "data": {
      "image/png": "[encoded data removed]",
      "text/plain": [
       "<Figure size 700x500 with 1 Axes>"
      ]
     },
     "execution_count": 7,
     "metadata": {},
     "output_type": "execute_result"
    }
   ],
   "source": [
    "simulator = Aer.get_backend('qasm_simulator')\n",
    "result = execute(qc_teleportation,backend = simulator,shots = 1024).result()\n",
    "plot_histogram(result.get_counts(qc_teleportation))"
   ]
  },
  {
   "cell_type": "markdown",
   "id": "d8edc7cf",
   "metadata": {},
   "source": [
    "We can see that the results that we got from the simulation are as expected from theory. We got both the states roughly the same number of times, telling us that they have equal probablity of occurance if the experiment is performed randomly."
   ]
  },
  {
   "cell_type": "code",
   "execution_count": 8,
   "id": "86f7a5c8",
   "metadata": {},
   "outputs": [
    {
     "data": {
      "text/html": [
       "<pre style=\"word-wrap: normal;white-space: pre;background: #fff0;line-height: 1.1;font-family: &quot;Courier New&quot;,Courier,monospace\">     ┌─────────┐┌─────────┐┌─┐\n",
       "  q: ┤ Rx(π/6) ├┤ Ry(π/3) ├┤M├\n",
       "     └─────────┘└─────────┘└╥┘\n",
       "c: 1/═══════════════════════╩═\n",
       "                            0 </pre>"
      ],
      "text/plain": [
       "     ┌─────────┐┌─────────┐┌─┐\n",
       "  q: ┤ Rx(π/6) ├┤ Ry(π/3) ├┤M├\n",
       "     └─────────┘└─────────┘└╥┘\n",
       "c: 1/═══════════════════════╩═\n",
       "                            0 "
      ]
     },
     "execution_count": 8,
     "metadata": {},
     "output_type": "execute_result"
    }
   ],
   "source": [
    "init_state = QuantumCircuit(1,1)\n",
    "init_state.rx(np.pi/6,0)\n",
    "init_state.ry(np.pi/3,0)\n",
    "init_state.measure(0,0)\n",
    "init_state.draw()"
   ]
  },
  {
   "cell_type": "code",
   "execution_count": 9,
   "id": "4501f0bf",
   "metadata": {},
   "outputs": [
    {
     "data": {
      "image/png": "[encoded data removed]",
      "text/plain": [
       "<Figure size 700x500 with 1 Axes>"
      ]
     },
     "execution_count": 9,
     "metadata": {},
     "output_type": "execute_result"
    }
   ],
   "source": [
    "simulators = Aer.get_backend('qasm_simulator')\n",
    "result = execute(init_state,backend = simulators,shots = 1024).result()\n",
    "plot_histogram(result.get_counts(init_state))"
   ]
  },
  {
   "cell_type": "markdown",
   "id": "be812e3e",
   "metadata": {},
   "source": [
    "## Assignment:\n",
    "Now that you know how to make a quantum circuit, you have to create a circuit for quantum teleportation. The circuit has been discussed in class and slides are available on classroom, you can use them and these resources to make a circuit for quantum teleportation. Submission will be on classroom, you have to submit a jupyter notebook with the code.\n",
    "\n",
    "### Problem:\n",
    "You are given a quantum state at qubit  q_0, you have to use the teleportation algorithm to teleport it to some other qubit.\n",
    "\n",
    "### Tasks:\n",
    "<list>\n",
    "    <li>edit the code below to make the quantum circuit have appropriate number of qubits and draw the circuit</li> \n",
    "    <li>Modify the circuit to create bell states on appropriate qubits and draw the circuit </li>\n",
    "    <li>Further modify the circuit to measure appropriate qubits in bell bases</li>\n",
    "    <li>Add the requred controlled gates or measurements to teleport the state </li>\n",
    "    <li>Measure the teleported state 1024 times using qasm_simulator and plot the histogram</li>\n",
    " </list><br>\n",
    " If you have implemented the algortithm properly, you will see that the histogram that you obtain will be similar to the one we have obtained above\n",
    " \n",
    " ### Resources:\n",
    " <a href=\"https://www.geeksforgeeks.org/how-to-use-jupyter-notebook-an-ultimate-guide/\"> Jupyter Notebook </a><br>\n",
    " <a href=\"https://www.qmunity.tech/tutorials/quantum-teleportation\"> More on Quantum Teleportation </a><br>\n",
    "\n",
    " \n",
    " ### Submission\n",
    " Submitting the same jupyter notebook, or a different notebook is up to you to decide. But the state that is teleported has to be same as the given state."
   ]
  },
  {
   "cell_type": "code",
   "execution_count": 14,
   "id": "1b19dd4a",
   "metadata": {},
   "outputs": [
    {
     "data": {
      "text/html": [
       "<pre style=\"word-wrap: normal;white-space: pre;background: #fff0;line-height: 1.1;font-family: &quot;Courier New&quot;,Courier,monospace\">   ┌─────────┐┌─────────┐\n",
       "q: ┤ Rx(π/6) ├┤ Ry(π/3) ├\n",
       "   └─────────┘└─────────┘</pre>"
      ],
      "text/plain": [
       "   ┌─────────┐┌─────────┐\n",
       "q: ┤ Rx(π/6) ├┤ Ry(π/3) ├\n",
       "   └─────────┘└─────────┘"
      ]
     },
     "execution_count": 14,
     "metadata": {},
     "output_type": "execute_result"
    }
   ],
   "source": [
    "#edit the code below to make a teleportation circuit. \n",
    "qc = QuantumCircuit(1,0)\n",
    "qc.rx(np.pi/6,0)\n",
    "qc.ry(np.pi/3,0)\n",
    "qc.draw()"
   ]
  }
 ],
 "metadata": {
  "kernelspec": {
   "display_name": "Python 3 (ipykernel)",
   "language": "python",
   "name": "python3"
  },
  "language_info": {
   "codemirror_mode": {
    "name": "ipython",
    "version": 3
   },
   "file_extension": ".py",
   "mimetype": "text/x-python",
   "name": "python",
   "nbconvert_exporter": "python",
   "pygments_lexer": "ipython3",
   "version": "3.8.18"
  }
 },
 "nbformat": 4,
 "nbformat_minor": 5
}
