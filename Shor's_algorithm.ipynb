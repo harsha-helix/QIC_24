{
 "cells": [
  {
   "cell_type": "markdown",
   "metadata": {},
   "source": [
    "# Shor's Algorithm\n",
    "\n",
    "Here, we will use Shor's Algorithm to factorize the number 15.\n",
    "\n",
    "We will break down the factoring problem into:\n",
    "<ul>\n",
    "<li>Modular exponentiation through oracle </li>\n",
    "$$f(x) = a^r mod N$$\n",
    "<li>Quantum Period Finding subroutine to find r such that </li>\n",
    "$$ a^r = 1 mod N$$\n",
    "</ul>"
   ]
  },
  {
   "cell_type": "code",
   "execution_count": null,
   "metadata": {
    "vscode": {
     "languageId": "plaintext"
    }
   },
   "outputs": [],
   "source": []
  }
 ],
 "metadata": {
  "language_info": {
   "name": "python"
  }
 },
 "nbformat": 4,
 "nbformat_minor": 2
}
